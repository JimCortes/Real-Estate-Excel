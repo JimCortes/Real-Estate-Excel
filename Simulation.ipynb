{
 "cells": [
  {
   "cell_type": "code",
   "execution_count": 45,
   "id": "ae168d73-4a11-4a1b-b33f-6dc48017534d",
   "metadata": {},
   "outputs": [],
   "source": [
    "import xlwings as xw\n",
    "import seaborn as sns\n",
    "import numpy as np\n",
    "import pandas as pd\n",
    "import random\n",
    "import matplotlib.pyplot as plt"
   ]
  },
  {
   "cell_type": "markdown",
   "id": "a54dc1cf-ed13-458d-8cab-29bf2b3fa3a5",
   "metadata": {},
   "source": [
    "# Excel Connection"
   ]
  },
  {
   "cell_type": "code",
   "execution_count": 46,
   "id": "654d437d-6003-438d-98ba-31bfffc28985",
   "metadata": {},
   "outputs": [],
   "source": [
    "wb  = xw.Book('Real_Estate.xlsx')\n",
    "inputs = wb.sheets('Inputs')\n",
    "simulation = wb.sheets('Simulation')\n"
   ]
  },
  {
   "cell_type": "markdown",
   "id": "7b4b5796-9688-4fcd-be6a-d87dcd42f9ff",
   "metadata": {},
   "source": [
    "# Functions"
   ]
  },
  {
   "cell_type": "code",
   "execution_count": 32,
   "id": "b853d599-648e-4e52-8d65-e9e361246c58",
   "metadata": {},
   "outputs": [],
   "source": [
    "# Functions \n",
    "def generate_random_values(sheet,range_low, range_high, num_values):\n",
    "    try:\n",
    "        range_low = sheet.range(range_low).value\n",
    "        range_high = sheet.range(range_high).value\n",
    "        mean = (range_low + range_high) / 2\n",
    "        std_dev = (range_high - range_low) / 6\n",
    "        values = np.random.normal(mean, std_dev, num_values)\n",
    "        values = np.round(values, 0)\n",
    "        return values\n",
    "    except:\n",
    "        return \"NA\"\n",
    "        \n",
    "def generate_random_values_percentages(sheet,range_low, range_high, num_values):\n",
    "    try:\n",
    "        range_low = sheet.range(range_low).value\n",
    "        range_high = sheet.range(range_high).value\n",
    "        mean = (range_low + range_high) / 2\n",
    "        std_dev = (range_high - range_low) / 6\n",
    "        values = np.random.normal(mean, std_dev, num_values)\n",
    "        values = np.round(values, 2)\n",
    "        return values\n",
    "    except:\n",
    "        return \"NA\"\n",
    "        \n",
    "\n",
    "def calculate_growth(start_value, growth_rate, time_period):\n",
    "    return round(start_value * (1 + growth_rate) ** (time_period),2)\n",
    "\n",
    "    \n",
    "def colorize_cells(sheet, cells_range, color):\n",
    "    cells = sheet.range(cells_range)\n",
    "    cells.color = color\n",
    "    \n",
    "def colorize_font(sheet, cells_range, color):\n",
    "    cells = sheet.range(cells_range)\n",
    "    cells.font.color = color\n",
    "\n",
    "def clear_range(sheet,cells_range):\n",
    "    sheet.range(cells_range).clear_contents()\n",
    "    \n",
    "    \n"
   ]
  },
  {
   "cell_type": "markdown",
   "id": "84b3c565-cf3b-410a-8b1c-c91006af4424",
   "metadata": {},
   "source": [
    "# Excel Values"
   ]
  },
  {
   "cell_type": "code",
   "execution_count": 50,
   "id": "16e11485-4945-4dcd-8d0d-1d990288b2c6",
   "metadata": {},
   "outputs": [],
   "source": [
    "simulations = int(simulation.range('B2').value)\n",
    "Avg_hard_cost_m2_values = generate_random_values(simulation, 'B4', 'C4', simulations)\n",
    "Construction_start_values = generate_random_values(simulation, 'B5', 'C5', simulations)\n",
    "Construction_period_values = generate_random_values(simulation, 'B6', 'C6', simulations)\n",
    "Sales_start_values = generate_random_values(simulation, 'B7', 'C7', simulations)\n",
    "Monthly_absorption_values = generate_random_values(simulation, 'B8', 'C8', simulations)\n",
    "Max_loan_values = generate_random_values_percentages(simulation, 'B9', 'C9', simulations)\n",
    "Interest_values = generate_random_values_percentages(simulation, 'B10', 'C10', simulations)\n",
    "Sales_price_values = generate_random_values(simulation, 'B11', 'C11', simulations)"
   ]
  },
  {
   "cell_type": "code",
   "execution_count": 51,
   "id": "e4f43929-c3a1-4905-9928-02f1d208b450",
   "metadata": {},
   "outputs": [
    {
     "name": "stdout",
     "output_type": "stream",
     "text": [
      "Wall time: 4d 1h 23min 31s\n"
     ]
    }
   ],
   "source": [
    "%%time\n",
    "columns = inputs.range('e4:e9').value\n",
    "Invesment_summary_unleverage = []\n",
    "Invesment_summary_leverage = []\n",
    "Unlevered_cashflow = []\n",
    "Levered_cashflow = []\n",
    "\n",
    "clear_range(simulation,'f2:l11')\n",
    "clear_range(simulation,'m2:s11')\n",
    "\n",
    "for i in range(simulations):\n",
    "    inputs.range('b11').value = Avg_hard_cost_m2_values[i]\n",
    "    inputs.range('b12').value = Construction_start_values[i]\n",
    "    inputs.range('b13').value = Construction_period_values[i]\n",
    "    inputs.range('b18').value = Sales_price_values[i]\n",
    "    inputs.range('b20').value = Sales_start_values[i]\n",
    "    inputs.range('b21').value = Monthly_absorption_values[i]\n",
    "    inputs.range('b33').value = Max_loan_values[i]\n",
    "    inputs.range('b35').value = Interest_values[i]\n",
    "    \n",
    "    Invesment_summary_unleverage.append(inputs.range('F4:F9').value)\n",
    "    Invesment_summary_leverage.append(inputs.range('g4:g9').value)\n",
    "    Unlevered_cashflow.append(inputs.range('g75:bn75').value)\n",
    "    Levered_cashflow.append(inputs.range('g79:bn79').value)\n",
    "    \n",
    "\n",
    "simulation.range('f3').value = pd.DataFrame(Invesment_summary_unleverage ,columns = columns).describe()\n",
    "simulation.range('n3').value = pd.DataFrame(Invesment_summary_leverage ,columns = columns).describe()\n",
    "\n",
    "## Formating\n",
    "colorize_cells(simulation,'f2:k2',(48, 199, 181))\n",
    "colorize_font(simulation,'f2:k2',(255,255, 255))\n",
    "colorize_cells(simulation,'f3:k3',(231, 230, 230))\n",
    "colorize_cells(simulation,'f3:f11',(231, 230, 230))\n",
    "colorize_font(simulation,'f3:k3',(32,56, 100))\n",
    "colorize_font(simulation,'f3:k11',(32,56, 100))\n",
    "\n",
    "colorize_cells(simulation,'m2:s2',(48, 199, 181))\n",
    "colorize_font(simulation,'m2:s2',(255,255, 255))\n",
    "colorize_cells(simulation,'m3:s3',(231, 230, 230))\n",
    "colorize_cells(simulation,'m3:m11',(231, 230, 230))\n",
    "colorize_font(simulation,'m3:s3',(32,56, 100))\n",
    "colorize_font(simulation,'m3:s11',(32,56, 100))"
   ]
  },
  {
   "cell_type": "code",
   "execution_count": 36,
   "id": "f38fcd42-d636-4f19-900d-974cb7d47b3f",
   "metadata": {},
   "outputs": [],
   "source": []
  }
 ],
 "metadata": {
  "kernelspec": {
   "display_name": "Python 3 (ipykernel)",
   "language": "python",
   "name": "python3"
  },
  "language_info": {
   "codemirror_mode": {
    "name": "ipython",
    "version": 3
   },
   "file_extension": ".py",
   "mimetype": "text/x-python",
   "name": "python",
   "nbconvert_exporter": "python",
   "pygments_lexer": "ipython3",
   "version": "3.9.7"
  }
 },
 "nbformat": 4,
 "nbformat_minor": 5
}
